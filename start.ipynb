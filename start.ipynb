{
 "cells": [
  {
   "cell_type": "code",
   "execution_count": 6,
   "metadata": {},
   "outputs": [
    {
     "name": "stdout",
     "output_type": "stream",
     "text": [
      "['car number', 'rank', 'speed', 'acceleration']\n",
      "    car number  rank  speed  acceleration\n",
      "t/s                                      \n",
      "1        MU103     1  50.50           2.3\n",
      "2        SY413     2  60.71           3.4\n",
      "3        UR042     3  70.43           4.7\n",
      "4        IG432     4  80.00           5.2\n",
      "[['MU103' 1 50.5 2.3]\n",
      " ['SY413' 2 60.71 3.4]\n",
      " ['UR042' 3 70.43 4.7]\n",
      " ['IG432' 4 80.0 5.2]]\n"
     ]
    }
   ],
   "source": [
    "import pandas as pd\n",
    "import numpy as np\n",
    "\n",
    "data = {'car number': ['MU103', 'SY413', 'UR042', 'IG432'],\n",
    "        'rank': [1,2,3,4],\n",
    "        'speed': [50.5, 60.71, 70.43, 80.0],\n",
    "        'acceleration': [2.3, 3.4, 4.7, 5.2]}\n",
    "df = pd.DataFrame(data, index=range(1, 5))\n",
    "colnames = list(df)\n",
    "print(colnames)\n",
    "df.index.name = 't/s'\n",
    "print(df)\n",
    "ns = np.array(df)\n",
    "print(ns)"
   ]
  },
  {
   "cell_type": "code",
   "execution_count": 28,
   "metadata": {},
   "outputs": [
    {
     "name": "stdout",
     "output_type": "stream",
     "text": [
      "   rank  speed  acceleration desire_speed\n",
      "0     1     50            22           sp\n",
      "1     2     60            33         fada\n",
      "2     3     70            44      fafeqad\n",
      "3     4     80            55           ed\n",
      "int64\n",
      "int64\n",
      "int64\n",
      "object\n",
      "[[1 50 22 'sp']\n",
      " [2 60 33 'fada']\n",
      " [3 70 44 'fafeqad']\n",
      " [4 80 55 'ed']]\n",
      "[array([1, 50, 22, 'sp'], dtype=object), array([2, 60, 33, 'fada'], dtype=object), array([3, 70, 44, 'fafeqad'], dtype=object), array([4, 80, 55, 'ed'], dtype=object)]\n",
      "[[1, 50, 22, 'sp'], [2, 60, 33, 'fada'], [3, 70, 44, 'fafeqad'], [4, 80, 55, 'ed']]\n"
     ]
    },
    {
     "data": {
      "text/plain": [
       "list"
      ]
     },
     "execution_count": 28,
     "metadata": {},
     "output_type": "execute_result"
    }
   ],
   "source": [
    "import pandas as pd\n",
    "import numpy as np\n",
    "\n",
    "data = {'rank': [1,2,3,4],\n",
    "        'speed': [50, 60, 70, 80],\n",
    "        'acceleration': [22, 33, 44, 55],\n",
    "        'desire_speed': ['sp', 'fada', 'fafeqad', 'ed']}\n",
    "df = pd.DataFrame(data)\n",
    "print(df)\n",
    "print(df['speed'].dtypes)\n",
    "print(df['rank'].dtypes)\n",
    "print(df['acceleration'].dtypes)\n",
    "print(df['desire_speed'].dtypes)\n",
    "nparr = np.array(df)\n",
    "print(nparr)\n",
    "y = list(nparr)\n",
    "print(y)\n",
    "x = nparr.tolist()\n",
    "print(x)\n",
    "type(x)"
   ]
  },
  {
   "cell_type": "code",
   "execution_count": 1,
   "metadata": {},
   "outputs": [
    {
     "name": "stdout",
     "output_type": "stream",
     "text": [
      "[[ 1 50 22]\n",
      " [ 2 60 33]\n",
      " [ 3 70 44]\n",
      " [ 4 80 55]]\n"
     ]
    }
   ],
   "source": [
    "import pandas as pd\n",
    "import numpy as np\n",
    "\n",
    "data = {'rank': [1,2,3,4],\n",
    "        'speed': [50, 60, 70, 80],\n",
    "        'acceleration': [22, 33, 44, 55]}\n",
    "df1 = pd.DataFrame(data)\n",
    "nparr1 = np.array(df1)\n",
    "print(nparr1)"
   ]
  },
  {
   "cell_type": "code",
   "execution_count": 23,
   "metadata": {},
   "outputs": [
    {
     "name": "stdout",
     "output_type": "stream",
     "text": [
      "   rank  speed  acceleration\n",
      "0     1     50             4\n",
      "1     2     60             5\n",
      "2     3     70             7\n",
      "3     4     80             2\n",
      "[[ 1 50  4]\n",
      " [ 2 60  5]\n",
      " [ 3 70  7]\n",
      " [ 4 80  2]]\n"
     ]
    }
   ],
   "source": [
    "import pandas as pd\n",
    "import numpy as np\n",
    "\n",
    "data = {'rank': [1,2,3,4],\n",
    "        'speed': [50, 60, 70, 80],\n",
    "        'acceleration': [4, 5, 7, 2]}\n",
    "df1 = pd.DataFrame(data)\n",
    "print(df1)\n",
    "nparr1 = np.array(df1)\n",
    "print(nparr1)\n",
    "x1=[1,2,3]\n",
    "x2=(1,'hello',3.14,2,5.8,'fafa')\n",
    "x3=3.14\n",
    "x4={\"Bob\":39}\n",
    "x5=4"
   ]
  },
  {
   "cell_type": "code",
   "execution_count": 21,
   "metadata": {},
   "outputs": [
    {
     "name": "stdout",
     "output_type": "stream",
     "text": [
      "[[ 6.700e+01  4.520e+02  4.390e+02  5.480e+01  5.380e+01  2.000e-01\n",
      "   4.560e+02  4.800e+01  1.200e+01  3.000e+00  3.000e+00  3.000e+00\n",
      "   3.000e+00  3.000e+00  3.000e+00  3.000e+00  0.000e+00  0.000e+00\n",
      "   0.000e+00  4.100e+01  4.100e+01  4.585e+03]\n",
      " [ 6.700e+01  4.530e+02  4.390e+02  5.550e+01  5.380e+01  2.000e-01\n",
      "   4.410e+02  4.800e+01  3.000e+00  3.000e+00  3.000e+00  3.000e+00\n",
      "   3.000e+00  3.000e+00  3.000e+00  3.000e+00  0.000e+00  0.000e+00\n",
      "   0.000e+00  4.100e+01  4.000e+01  4.585e+03]\n",
      " [ 6.700e+01  4.540e+02  4.390e+02  5.540e+01  5.380e+01 -0.000e+00\n",
      "   4.250e+02  4.800e+01  3.000e+00  3.000e+00  3.000e+00  3.000e+00\n",
      "   3.000e+00  3.000e+00  3.000e+00  3.000e+00  0.000e+00  0.000e+00\n",
      "   0.000e+00  4.100e+01  3.900e+01  4.585e+03]\n",
      " [ 6.700e+01  4.550e+02  4.390e+02  5.470e+01  5.380e+01 -2.000e-01\n",
      "   4.090e+02  4.800e+01  3.000e+00  3.000e+00  1.500e+01  3.000e+00\n",
      "   3.000e+00  3.000e+00  3.000e+00  3.000e+00  0.000e+00  0.000e+00\n",
      "   0.000e+00  4.100e+01  3.800e+01  4.585e+03]\n",
      " [ 6.700e+01  4.560e+02  4.390e+02  5.390e+01  5.380e+01 -2.000e-01\n",
      "   3.940e+02  4.800e+01  3.000e+00  3.000e+00  4.800e+01  3.000e+00\n",
      "   3.000e+00  3.000e+00  3.000e+00  3.000e+00  0.000e+00  0.000e+00\n",
      "   0.000e+00  4.100e+01  3.700e+01  4.585e+03]]\n",
      "<class 'numpy.ndarray'>\n",
      "[[86.90724592 74.26107789 33.78980608]\n",
      " [63.82418049 12.11366584 91.26834761]\n",
      " [ 3.29816009 26.76976588 94.50612589]]\n"
     ]
    }
   ],
   "source": [
    "import pandas as pd\n",
    "import numpy as np\n",
    "\n",
    "df = pd.read_csv('D:\\downloads\\df_erweitert_Test.txt', sep=';',header=0)\n",
    "df2 = df.head()\n",
    "print(df2.values)\n",
    "nparr = np.array(df.head())\n",
    "#print(nparr)\n",
    "print(type(nparr))\n",
    "rand_array = np.random.rand(3,4)*100\n",
    "print(rand_array)\n"
   ]
  },
  {
   "cell_type": "code",
   "execution_count": 20,
   "metadata": {},
   "outputs": [
    {
     "name": "stdout",
     "output_type": "stream",
     "text": [
      "<class 'float'>\n"
     ]
    }
   ],
   "source": [
    "x3=5.24549\n",
    "print(type(x3))"
   ]
  },
  {
   "cell_type": "code",
   "execution_count": 2,
   "metadata": {},
   "outputs": [],
   "source": [
    "import pandas as pd\n",
    "\n",
    "def CtoPython(df):\n",
    "    df['x1'] = pd.Series(df['x1'], dtype=int)\n",
    "    df['x2'] = pd.Series(df['x2'], dtype=float)\n",
    "    \n",
    "    \n",
    "    print(df)"
   ]
  },
  {
   "cell_type": "code",
   "execution_count": 4,
   "metadata": {},
   "outputs": [
    {
     "name": "stdout",
     "output_type": "stream",
     "text": [
      "Empty DataFrame\n",
      "Columns: [x1, x2]\n",
      "Index: []\n"
     ]
    }
   ],
   "source": [
    "import pandas as pd\n",
    "\n",
    "df = pd.DataFrame(columns=['x1', 'x2'])\n",
    "print(df)"
   ]
  },
  {
   "cell_type": "code",
   "execution_count": 1,
   "metadata": {},
   "outputs": [
    {
     "name": "stdout",
     "output_type": "stream",
     "text": [
      "['c:\\\\Users\\\\uk093878\\\\python', 'C:\\\\Users\\\\uk093878\\\\Anaconda3\\\\envs\\\\kai\\\\DLLs', 'C:\\\\Users\\\\uk093878\\\\python', 'c:\\\\Users\\\\uk093878\\\\Anaconda3\\\\envs\\\\kai\\\\python39.zip', 'C:\\\\Users\\\\uk093878\\\\Anaconda3\\\\envs\\\\kai\\\\lib', 'c:\\\\Users\\\\uk093878\\\\Anaconda3\\\\envs\\\\kai', '', 'C:\\\\Users\\\\uk093878\\\\AppData\\\\Roaming\\\\Python\\\\Python39\\\\site-packages', 'C:\\\\Users\\\\uk093878\\\\Anaconda3\\\\envs\\\\kai\\\\lib\\\\site-packages', 'C:\\\\Users\\\\uk093878\\\\Anaconda3\\\\envs\\\\kai\\\\lib\\\\site-packages\\\\win32', 'C:\\\\Users\\\\uk093878\\\\Anaconda3\\\\envs\\\\kai\\\\lib\\\\site-packages\\\\win32\\\\lib', 'C:\\\\Users\\\\uk093878\\\\Anaconda3\\\\envs\\\\kai\\\\lib\\\\site-packages\\\\Pythonwin']\n"
     ]
    }
   ],
   "source": []
  },
  {
   "cell_type": "code",
   "execution_count": 1,
   "metadata": {},
   "outputs": [],
   "source": [
    "import xgboost as xgb"
   ]
  },
  {
   "cell_type": "code",
   "execution_count": 2,
   "metadata": {},
   "outputs": [
    {
     "ename": "ModuleNotFoundError",
     "evalue": "No module named 'sklearn'",
     "output_type": "error",
     "traceback": [
      "\u001b[1;31m---------------------------------------------------------------------------\u001b[0m",
      "\u001b[1;31mModuleNotFoundError\u001b[0m                       Traceback (most recent call last)",
      "Cell \u001b[1;32mIn[2], line 1\u001b[0m\n\u001b[1;32m----> 1\u001b[0m \u001b[39mimport\u001b[39;00m \u001b[39msklearn\u001b[39;00m\n",
      "\u001b[1;31mModuleNotFoundError\u001b[0m: No module named 'sklearn'"
     ]
    }
   ],
   "source": [
    "import sklearn "
   ]
  },
  {
   "cell_type": "code",
   "execution_count": null,
   "metadata": {},
   "outputs": [],
   "source": []
  }
 ],
 "metadata": {
  "kernelspec": {
   "display_name": "kai",
   "language": "python",
   "name": "python3"
  },
  "language_info": {
   "codemirror_mode": {
    "name": "ipython",
    "version": 3
   },
   "file_extension": ".py",
   "mimetype": "text/x-python",
   "name": "python",
   "nbconvert_exporter": "python",
   "pygments_lexer": "ipython3",
   "version": "3.9.15"
  },
  "orig_nbformat": 4,
  "vscode": {
   "interpreter": {
    "hash": "4f204243b2774e500d020887b5f3c74bcc9486dc05729de00f38ccc227122313"
   }
  }
 },
 "nbformat": 4,
 "nbformat_minor": 2
}
